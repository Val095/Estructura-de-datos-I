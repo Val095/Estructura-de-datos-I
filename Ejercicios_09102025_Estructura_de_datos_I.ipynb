{
  "cells": [
    {
      "cell_type": "markdown",
      "metadata": {
        "id": "view-in-github",
        "colab_type": "text"
      },
      "source": [
        "<a href=\"https://colab.research.google.com/github/Val095/Estructura-de-datos-I/blob/main/Ejercicios_09102025_Estructura_de_datos_I.ipynb\" target=\"_parent\"><img src=\"https://colab.research.google.com/assets/colab-badge.svg\" alt=\"Open In Colab\"/></a>"
      ]
    },
    {
      "cell_type": "code",
      "source": [
        "#Área y perímetro de un cuadrado\n",
        "#l = lado del cuadrdo\n",
        "#ar = área\n",
        "# pe = perímetro\n",
        "l = float(input(\"Digite un lado del cuadrado: \"))\n",
        "ar = l ** 2\n",
        "pe = 4 * l\n",
        "print(f\"El área del cuadrado es: {ar}\")\n",
        "print(f\"El perímetro del cuadrado es: {pe}\")\n"
      ],
      "metadata": {
        "id": "ZdsO_r0GUhpY",
        "outputId": "bc7fdc13-f450-4ed9-e8f8-947db4f77218",
        "colab": {
          "base_uri": "https://localhost:8080/"
        }
      },
      "execution_count": null,
      "outputs": [
        {
          "output_type": "stream",
          "name": "stdout",
          "text": [
            "Digite un lado del cuadrado: 6\n",
            "El área del cuadrado es: 36.0\n",
            "El perímetro del cuadrado es: 24.0\n"
          ]
        }
      ]
    },
    {
      "cell_type": "code",
      "source": [
        "\"\"\"Area y perimetro de un triangulo isósceles\n",
        "b= base del triangulo\n",
        "a = altura del triángulo\n",
        "c = lado restante restante\n",
        "ar = area\n",
        "pe = perímetro\"\"\"\n",
        "b = float(input(\"Digite la base del triángulo: \"))\n",
        "a = float(input(\"Digite la altura del triángulo: \"))\n",
        "c = float(input(\"Digite un lado del triángulo diferente a la base: \"))\n",
        "ar = (b*a)/2\n",
        "pe = b + c + c\n",
        "print(f\"El área del triángulo es: {ar}\")\n",
        "print(f\"El perímetro del triángulo es: {pe}\")\n"
      ],
      "metadata": {
        "id": "X6H5IOFJVkhX",
        "outputId": "1181bba8-2b93-417f-f17d-33ad891b7c44",
        "colab": {
          "base_uri": "https://localhost:8080/"
        }
      },
      "execution_count": null,
      "outputs": [
        {
          "output_type": "stream",
          "name": "stdout",
          "text": [
            "Digite la base del triángulo: 6\n",
            "Digite la altura del triángulo: 4\n",
            "Digite un lado del triángulo diferente a la base: 5\n",
            "El área del triángulo es: 12.0\n",
            "El perímetro del triángulo es: 16.0\n"
          ]
        }
      ]
    },
    {
      "cell_type": "code",
      "source": [
        "\"\"\"Area y perimetro de un octágono\n",
        "l = lado del octágono\n",
        "ar = area\n",
        "pe= perímetro\"\"\"\n",
        "l = float(input(\"Digite un lado del octágono: \"))\n",
        "ar = 2 * (l**2) * (1 + (2**(1/2)))\n",
        "pe = l * 8\n",
        "print(f\"El área del octágono es: {ar}\")\n",
        "print(f\"El perímetro del octágono es: {pe}\")"
      ],
      "metadata": {
        "id": "T1BR3T0zWKio",
        "outputId": "d46c629b-8cf4-40f9-f029-6e437ae4abe0",
        "colab": {
          "base_uri": "https://localhost:8080/"
        }
      },
      "execution_count": null,
      "outputs": [
        {
          "output_type": "stream",
          "name": "stdout",
          "text": [
            "Digite un lado del octágono: 6\n",
            "El área del octágono es: 173.82337649086284\n",
            "El perímetro del octágono es: 48.0\n"
          ]
        }
      ]
    },
    {
      "cell_type": "code",
      "source": [
        "#Definir si un numero entero es PAR o IMPAR\n",
        "# n = variable como un numero\n",
        "n = int(input(\"Digite un número entero: \"))\n",
        "if n % 2 == 0:\n",
        "    print(f\"El número {n} es PAR \")\n",
        "else:\n",
        "    print(f\"El número {n} es IMPAR\")"
      ],
      "metadata": {
        "id": "DzcQ11C_ZqN-",
        "outputId": "007ba5b4-18b0-4d8d-a190-2b0d78c2e088",
        "colab": {
          "base_uri": "https://localhost:8080/"
        }
      },
      "execution_count": null,
      "outputs": [
        {
          "output_type": "stream",
          "name": "stdout",
          "text": [
            "Digite un número entero: 3\n",
            "El número 3 es IMPAR\n"
          ]
        }
      ]
    }
  ],
  "metadata": {
    "colab": {
      "provenance": [],
      "include_colab_link": true
    },
    "kernelspec": {
      "display_name": "Python 3",
      "name": "python3"
    }
  },
  "nbformat": 4,
  "nbformat_minor": 0
}